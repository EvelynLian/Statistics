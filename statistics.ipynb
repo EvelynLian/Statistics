{
 "cells": [
  {
   "cell_type": "markdown",
   "metadata": {},
   "source": [
    "### Descriptive Statistics"
   ]
  },
  {
   "cell_type": "code",
   "execution_count": 1,
   "metadata": {},
   "outputs": [],
   "source": [
    "%%capture\n",
    "!pip install numpy\n",
    "!pip install pandas"
   ]
  },
  {
   "cell_type": "code",
   "execution_count": 2,
   "metadata": {},
   "outputs": [],
   "source": [
    "import pandas as pd\n",
    "import numpy as np"
   ]
  },
  {
   "cell_type": "code",
   "execution_count": 3,
   "metadata": {},
   "outputs": [
    {
     "name": "stdout",
     "output_type": "stream",
     "text": [
      "Mean: 38.57142857142857\n",
      "Median: 43.0\n",
      "Standard Deviation: 30.816364997324904\n"
     ]
    }
   ],
   "source": [
    "# create a data set\n",
    "data = {'Values': [9,4,5,2,49,5,43,94,23,54,65,77,43,67]}\n",
    "\n",
    "# create a dataframe\n",
    "df = pd.DataFrame(data)\n",
    "\n",
    "# calculate descriptive statistics\n",
    "mean = df['Values'].mean()\n",
    "median = df['Values'].median()\n",
    "std_dev = df['Values'].std()\n",
    "\n",
    "print(f\"Mean: {mean}\")\n",
    "print(f\"Median: {median}\")\n",
    "print(f\"Standard Deviation: {std_dev}\")"
   ]
  },
  {
   "cell_type": "code",
   "execution_count": 4,
   "metadata": {},
   "outputs": [
    {
     "data": {
      "text/html": [
       "<div>\n",
       "<style scoped>\n",
       "    .dataframe tbody tr th:only-of-type {\n",
       "        vertical-align: middle;\n",
       "    }\n",
       "\n",
       "    .dataframe tbody tr th {\n",
       "        vertical-align: top;\n",
       "    }\n",
       "\n",
       "    .dataframe thead th {\n",
       "        text-align: right;\n",
       "    }\n",
       "</style>\n",
       "<table border=\"1\" class=\"dataframe\">\n",
       "  <thead>\n",
       "    <tr style=\"text-align: right;\">\n",
       "      <th></th>\n",
       "      <th>Values</th>\n",
       "    </tr>\n",
       "  </thead>\n",
       "  <tbody>\n",
       "    <tr>\n",
       "      <th>count</th>\n",
       "      <td>14.000000</td>\n",
       "    </tr>\n",
       "    <tr>\n",
       "      <th>mean</th>\n",
       "      <td>38.571429</td>\n",
       "    </tr>\n",
       "    <tr>\n",
       "      <th>std</th>\n",
       "      <td>30.816365</td>\n",
       "    </tr>\n",
       "    <tr>\n",
       "      <th>min</th>\n",
       "      <td>2.000000</td>\n",
       "    </tr>\n",
       "    <tr>\n",
       "      <th>25%</th>\n",
       "      <td>6.000000</td>\n",
       "    </tr>\n",
       "    <tr>\n",
       "      <th>50%</th>\n",
       "      <td>43.000000</td>\n",
       "    </tr>\n",
       "    <tr>\n",
       "      <th>75%</th>\n",
       "      <td>62.250000</td>\n",
       "    </tr>\n",
       "    <tr>\n",
       "      <th>max</th>\n",
       "      <td>94.000000</td>\n",
       "    </tr>\n",
       "  </tbody>\n",
       "</table>\n",
       "</div>"
      ],
      "text/plain": [
       "          Values\n",
       "count  14.000000\n",
       "mean   38.571429\n",
       "std    30.816365\n",
       "min     2.000000\n",
       "25%     6.000000\n",
       "50%    43.000000\n",
       "75%    62.250000\n",
       "max    94.000000"
      ]
     },
     "execution_count": 4,
     "metadata": {},
     "output_type": "execute_result"
    }
   ],
   "source": [
    "## You can also use describe.()\n",
    "df.describe()"
   ]
  },
  {
   "cell_type": "markdown",
   "metadata": {},
   "source": [
    "### Inferential Statistics\n",
    "It allows us to make inferences about the populations by using smaller samples of that population."
   ]
  },
  {
   "cell_type": "code",
   "execution_count": 6,
   "metadata": {},
   "outputs": [],
   "source": [
    "%%capture\n",
    "!pip install scipy \n",
    "import numpy as np\n",
    "import scipy.stats as stats"
   ]
  },
  {
   "cell_type": "code",
   "execution_count": 12,
   "metadata": {},
   "outputs": [
    {
     "name": "stdout",
     "output_type": "stream",
     "text": [
      "Mean: 20.299040077672426\n",
      "95% Confidence Interval: (np.float64(19.294074104982982), np.float64(21.30400605036187))\n",
      "99% Confidence Interval: (np.float64(18.968818544666068), np.float64(21.629261610678785))\n"
     ]
    }
   ],
   "source": [
    "# generate sample data\n",
    "np.random.seed(0)\n",
    "data = np.random.normal(loc=20, scale=5, size=100)\n",
    "\n",
    "# calculate confidence interval for the mean\n",
    "confidence_level = 0.95\n",
    "mean = np.mean(data)\n",
    "se = stats.sem(data)\n",
    "confidence_interval = stats.t.interval(confidence_level, len(data)-1, loc=mean, scale=se)\n",
    "\n",
    "print(f\"Mean: {mean}\")\n",
    "print(f\"95% Confidence Interval: {confidence_interval}\")\n",
    "\n",
    "confidence_level = 0.99\n",
    "mean = np.mean(data)\n",
    "se = stats.sem(data)\n",
    "confidence_interval = stats.t.interval(confidence_level, len(data)-1, loc=mean, scale=se)\n",
    "\n",
    "print(f\"99% Confidence Interval: {confidence_interval}\")"
   ]
  },
  {
   "cell_type": "code",
   "execution_count": null,
   "metadata": {},
   "outputs": [],
   "source": []
  }
 ],
 "metadata": {
  "kernelspec": {
   "display_name": "Python 3.10.16 ('venv_stats')",
   "language": "python",
   "name": "python3"
  },
  "language_info": {
   "codemirror_mode": {
    "name": "ipython",
    "version": 3
   },
   "file_extension": ".py",
   "mimetype": "text/x-python",
   "name": "python",
   "nbconvert_exporter": "python",
   "pygments_lexer": "ipython3",
   "version": "3.10.16"
  },
  "orig_nbformat": 4,
  "vscode": {
   "interpreter": {
    "hash": "57d16ec9386680ce2c5f67888bbc541761f9efa10c7bea289b9d409415f9f311"
   }
  }
 },
 "nbformat": 4,
 "nbformat_minor": 2
}
